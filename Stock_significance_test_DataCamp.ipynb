{
 "cells": [
  {
   "cell_type": "code",
   "execution_count": 259,
   "metadata": {},
   "outputs": [],
   "source": [
    "#standard imports\n",
    "import numpy as np\n",
    "import pandas as pd\n",
    "import matplotlib.pyplot as plt\n",
    "import matplotlib.patches as mpatches\n",
    "%matplotlib inline"
   ]
  },
  {
   "cell_type": "code",
   "execution_count": 260,
   "metadata": {},
   "outputs": [],
   "source": [
    "#resize charts to fit screen if using Jupyter Notebook\n",
    "plt.rcParams['figure.figsize']=[15,5]"
   ]
  },
  {
   "cell_type": "code",
   "execution_count": 261,
   "metadata": {},
   "outputs": [
    {
     "data": {
      "text/html": [
       "<div>\n",
       "<style scoped>\n",
       "    .dataframe tbody tr th:only-of-type {\n",
       "        vertical-align: middle;\n",
       "    }\n",
       "\n",
       "    .dataframe tbody tr th {\n",
       "        vertical-align: top;\n",
       "    }\n",
       "\n",
       "    .dataframe thead th {\n",
       "        text-align: right;\n",
       "    }\n",
       "</style>\n",
       "<table border=\"1\" class=\"dataframe\">\n",
       "  <thead>\n",
       "    <tr style=\"text-align: right;\">\n",
       "      <th></th>\n",
       "      <th>close</th>\n",
       "    </tr>\n",
       "    <tr>\n",
       "      <th>date</th>\n",
       "      <th></th>\n",
       "    </tr>\n",
       "  </thead>\n",
       "  <tbody>\n",
       "    <tr>\n",
       "      <th>1986-01-02</th>\n",
       "      <td>209.59</td>\n",
       "    </tr>\n",
       "    <tr>\n",
       "      <th>1986-01-03</th>\n",
       "      <td>210.88</td>\n",
       "    </tr>\n",
       "    <tr>\n",
       "      <th>1986-01-06</th>\n",
       "      <td>210.65</td>\n",
       "    </tr>\n",
       "    <tr>\n",
       "      <th>1986-01-07</th>\n",
       "      <td>213.80</td>\n",
       "    </tr>\n",
       "    <tr>\n",
       "      <th>1986-01-08</th>\n",
       "      <td>207.97</td>\n",
       "    </tr>\n",
       "  </tbody>\n",
       "</table>\n",
       "</div>"
      ],
      "text/plain": [
       "             close\n",
       "date              \n",
       "1986-01-02  209.59\n",
       "1986-01-03  210.88\n",
       "1986-01-06  210.65\n",
       "1986-01-07  213.80\n",
       "1986-01-08  207.97"
      ]
     },
     "execution_count": 261,
     "metadata": {},
     "output_type": "execute_result"
    }
   ],
   "source": [
    "#Daily S&P500 data from 1986==>\n",
    "url = \"https://raw.githubusercontent.com/Patrick-David/Stocks_Significance_PHacking/master/spx.csv\"\n",
    "df = pd.read_csv(url,index_col='date', parse_dates=True)\n",
    "\n",
    "#view raw S&P500 data\n",
    "df.head()"
   ]
  },
  {
   "cell_type": "code",
   "execution_count": 262,
   "metadata": {},
   "outputs": [
    {
     "data": {
      "text/plain": [
       "date\n",
       "1986-01-03    0.006155\n",
       "1986-01-06   -0.001091\n",
       "1986-01-07    0.014954\n",
       "1986-01-08   -0.027268\n",
       "1986-01-09   -0.008944\n",
       "Name: close, dtype: float64"
      ]
     },
     "execution_count": 262,
     "metadata": {},
     "output_type": "execute_result"
    }
   ],
   "source": [
    "#To model returns we will use daily % change\n",
    "daily_ret = df['close'].pct_change()\n",
    "#drop the 1st value - nan\n",
    "daily_ret.dropna(inplace=True)\n",
    "#daily %change\n",
    "daily_ret.head()"
   ]
  },
  {
   "cell_type": "code",
   "execution_count": 263,
   "metadata": {},
   "outputs": [
    {
     "name": "stdout",
     "output_type": "stream",
     "text": [
      "date\n",
      "1986-01-31    0.033317\n",
      "1986-02-28    0.023585\n",
      "1986-03-31    0.027961\n",
      "1986-04-30    0.037426\n",
      "1986-05-31    0.027412\n",
      "Freq: M, Name: close, dtype: float64\n"
     ]
    }
   ],
   "source": [
    "#use pandas to resample returns per month and take Standard Dev as measure of Volatility\n",
    "#then annualize by multiplying by sqrt of number of periods (12)\n",
    "mnthly_annu = daily_ret.resample('M').std()* np.sqrt(12)\n",
    "\n",
    "print(mnthly_annu.head())\n"
   ]
  },
  {
   "cell_type": "code",
   "execution_count": null,
   "metadata": {},
   "outputs": [],
   "source": [
    "#we can see major market events show up in the volatility\n",
    "plt.plot(mnthly_annu)\n",
    "plt.axvspan('1987','1989',color='r',alpha=.5)\n",
    "plt.axvspan('2008','2010',color='r',alpha=.5)\n",
    "plt.title('Monthly Annualized vol - Black Monday and 2008 Financial Crisis highlighted')\n",
    "labs = mpatches.Patch(color='red',alpha=.5, label=\"Black Monday & '08 Crash\")\n",
    "plt.legend(handles=[labs])"
   ]
  }
 ],
 "metadata": {
  "kernelspec": {
   "display_name": "Python 3",
   "language": "python",
   "name": "python3"
  },
  "language_info": {
   "codemirror_mode": {
    "name": "ipython",
    "version": 3
   },
   "file_extension": ".py",
   "mimetype": "text/x-python",
   "name": "python",
   "nbconvert_exporter": "python",
   "pygments_lexer": "ipython3",
   "version": "3.7.0"
  }
 },
 "nbformat": 4,
 "nbformat_minor": 2
}
